{
 "cells": [
  {
   "cell_type": "markdown",
   "id": "184db3be",
   "metadata": {},
   "source": [
    "**Install Libraries**"
   ]
  },
  {
   "cell_type": "code",
   "execution_count": 1,
   "id": "wSVUNeJ3uYW-",
   "metadata": {
    "colab": {
     "base_uri": "https://localhost:8080/"
    },
    "id": "wSVUNeJ3uYW-",
    "outputId": "66855808-7ae9-475f-e4c5-c416e5aa23a3"
   },
   "outputs": [
    {
     "name": "stdout",
     "output_type": "stream",
     "text": [
      "^C\n"
     ]
    }
   ],
   "source": [
    "# !pip install catboost"
   ]
  },
  {
   "cell_type": "code",
   "execution_count": null,
   "id": "EdHDucPsWnQ0",
   "metadata": {
    "colab": {
     "base_uri": "https://localhost:8080/",
     "height": 1000
    },
    "id": "EdHDucPsWnQ0",
    "outputId": "34b5accb-a6a6-433b-8503-3217adc9daa9"
   },
   "outputs": [],
   "source": [
    "# !pip install tensorflow==2.12.0"
   ]
  },
  {
   "cell_type": "markdown",
   "id": "757fa2d1",
   "metadata": {},
   "source": [
    "**Importr Libraries**"
   ]
  },
  {
   "cell_type": "code",
   "execution_count": null,
   "id": "0iKagOneBioH",
   "metadata": {
    "id": "0iKagOneBioH"
   },
   "outputs": [],
   "source": [
    "# from google.colab import drive\n",
    "# drive.mount('/content/drive')"
   ]
  },
  {
   "cell_type": "code",
   "execution_count": 1,
   "id": "8svKpR5kC_0R",
   "metadata": {
    "id": "8svKpR5kC_0R"
   },
   "outputs": [],
   "source": [
    "import numpy as np\n",
    "import pandas as pd\n",
    "import matplotlib.pyplot as plt\n",
    "import seaborn as sns\n",
    "from catboost import CatBoostClassifier\n",
    "from sklearn.model_selection import train_test_split\n",
    "from sklearn.preprocessing import StandardScaler\n",
    "from sklearn import metrics\n"
   ]
  },
  {
   "cell_type": "code",
   "execution_count": 2,
   "id": "6jgb6iV2-hZm",
   "metadata": {
    "id": "6jgb6iV2-hZm"
   },
   "outputs": [],
   "source": [
    "import tensorflow as tf\n",
    "from tensorflow.keras.models import Sequential\n",
    "from tensorflow.keras.layers import Conv1D, MaxPooling1D, Flatten, Dense, Dropout,BatchNormalization"
   ]
  },
  {
   "cell_type": "markdown",
   "id": "574e3fce",
   "metadata": {},
   "source": [
    "**Data Description**"
   ]
  },
  {
   "cell_type": "code",
   "execution_count": 3,
   "id": "2fhnVPRTean3",
   "metadata": {
    "id": "2fhnVPRTean3"
   },
   "outputs": [],
   "source": [
    "# Load Dataset\n",
    "data = pd.read_csv(\"./creditcard.csv\")\n",
    "\n",
    "# Balancing the Dataset\n",
    "non_fraud = data[data[\"Class\"] == 0]\n",
    "fraud = data[data[\"Class\"] == 1]"
   ]
  },
  {
   "cell_type": "code",
   "execution_count": 7,
   "id": "49857740",
   "metadata": {},
   "outputs": [
    {
     "data": {
      "text/plain": [
       "Time      0\n",
       "V1        0\n",
       "V2        0\n",
       "V3        0\n",
       "V4        0\n",
       "V5        0\n",
       "V6        0\n",
       "V7        0\n",
       "V8        0\n",
       "V9        0\n",
       "V10       0\n",
       "V11       0\n",
       "V12       0\n",
       "V13       0\n",
       "V14       0\n",
       "V15       0\n",
       "V16       0\n",
       "V17       0\n",
       "V18       0\n",
       "V19       0\n",
       "V20       0\n",
       "V21       0\n",
       "V22       0\n",
       "V23       0\n",
       "V24       0\n",
       "V25       0\n",
       "V26       0\n",
       "V27       0\n",
       "V28       0\n",
       "Amount    0\n",
       "Class     0\n",
       "dtype: int64"
      ]
     },
     "execution_count": 7,
     "metadata": {},
     "output_type": "execute_result"
    }
   ],
   "source": [
    "data.isnull().sum()"
   ]
  },
  {
   "cell_type": "code",
   "execution_count": 4,
   "id": "LFNh55PTe6up",
   "metadata": {
    "colab": {
     "base_uri": "https://localhost:8080/"
    },
    "id": "LFNh55PTe6up",
    "outputId": "bdd42757-f4a3-444a-ffcf-40ab278c1c0a"
   },
   "outputs": [
    {
     "data": {
      "text/plain": [
       "(284807, 31)"
      ]
     },
     "execution_count": 4,
     "metadata": {},
     "output_type": "execute_result"
    }
   ],
   "source": [
    "data.shape"
   ]
  },
  {
   "cell_type": "code",
   "execution_count": 5,
   "id": "58-xZt2ae-ZY",
   "metadata": {
    "colab": {
     "base_uri": "https://localhost:8080/",
     "height": 178
    },
    "id": "58-xZt2ae-ZY",
    "outputId": "51115b2d-a002-41b5-c9c9-caeadd607912"
   },
   "outputs": [
    {
     "data": {
      "text/plain": [
       "0    284315\n",
       "1       492\n",
       "Name: Class, dtype: int64"
      ]
     },
     "execution_count": 5,
     "metadata": {},
     "output_type": "execute_result"
    }
   ],
   "source": [
    "data['Class'].value_counts()"
   ]
  },
  {
   "cell_type": "code",
   "execution_count": 6,
   "id": "q3GLK6XxfOuy",
   "metadata": {
    "colab": {
     "base_uri": "https://localhost:8080/"
    },
    "id": "q3GLK6XxfOuy",
    "outputId": "7b891838-57e8-48a5-adc1-1c858462bd18"
   },
   "outputs": [
    {
     "data": {
      "text/plain": [
       "(492, 31)"
      ]
     },
     "execution_count": 6,
     "metadata": {},
     "output_type": "execute_result"
    }
   ],
   "source": [
    "fraud.shape"
   ]
  },
  {
   "cell_type": "markdown",
   "id": "73653369",
   "metadata": {},
   "source": [
    "**Sampling**"
   ]
  },
  {
   "cell_type": "code",
   "execution_count": null,
   "id": "BB7uNQukfRI4",
   "metadata": {
    "colab": {
     "base_uri": "https://localhost:8080/"
    },
    "id": "BB7uNQukfRI4",
    "outputId": "d0dcd3fd-32be-4c3c-af46-f1b93d1e0d2b"
   },
   "outputs": [],
   "source": [
    "# prompt: oversample class 1 on data to 1000 sample\n",
    "\n",
    "from sklearn.utils import resample\n",
    "\n",
    "# Upsample minority class\n",
    "fraud_upsampled = resample(fraud,\n",
    "                          replace=True,  # sample with replacement\n",
    "                          n_samples=1000,  # to match majority class\n",
    "                          random_state=123)  # reproducible results\n",
    "\n",
    "# Combine majority class with upsampled minority class\n",
    "data_upsampled = pd.concat([non_fraud[:1000], fraud_upsampled])\n",
    "\n",
    "# Display new class counts\n",
    "print(data_upsampled[\"Class\"].value_counts())\n"
   ]
  },
  {
   "cell_type": "code",
   "execution_count": null,
   "id": "39HmaXs7gePh",
   "metadata": {
    "colab": {
     "base_uri": "https://localhost:8080/",
     "height": 256
    },
    "id": "39HmaXs7gePh",
    "outputId": "863af90d-8cb1-4d11-c002-904959a6d300"
   },
   "outputs": [],
   "source": [
    "data_upsampled.head()"
   ]
  },
  {
   "cell_type": "markdown",
   "id": "0ade8ea8",
   "metadata": {},
   "source": [
    "**Data Split**"
   ]
  },
  {
   "cell_type": "code",
   "execution_count": null,
   "id": "DicI6hnFeRfI",
   "metadata": {
    "id": "DicI6hnFeRfI"
   },
   "outputs": [],
   "source": [
    "# Splitting Features & Target\n",
    "X = data_upsampled.drop(columns=\"Class\", axis=1)\n",
    "y = data_upsampled[\"Class\"]"
   ]
  },
  {
   "cell_type": "code",
   "execution_count": null,
   "id": "3LqvCPlhPzf4",
   "metadata": {
    "id": "3LqvCPlhPzf4"
   },
   "outputs": [],
   "source": [
    "# Splitting Data\n",
    "X_train, X_test, y_train, y_test = train_test_split(X, y, test_size=0.20, random_state=30, stratify=y)"
   ]
  },
  {
   "cell_type": "code",
   "execution_count": null,
   "id": "FSvrnV12P2jo",
   "metadata": {
    "colab": {
     "base_uri": "https://localhost:8080/"
    },
    "id": "FSvrnV12P2jo",
    "outputId": "d327e2a2-66ec-410f-9c28-c1d4a6102030"
   },
   "outputs": [],
   "source": [
    "print(X_train.shape)"
   ]
  },
  {
   "cell_type": "code",
   "execution_count": null,
   "id": "rk5lN6xvP7L5",
   "metadata": {
    "colab": {
     "base_uri": "https://localhost:8080/",
     "height": 256
    },
    "id": "rk5lN6xvP7L5",
    "outputId": "75572faf-84f4-4325-bf44-f3c869404f9b"
   },
   "outputs": [],
   "source": [
    "X_train.head()"
   ]
  },
  {
   "cell_type": "code",
   "execution_count": null,
   "id": "URuvHBYuP9lg",
   "metadata": {
    "colab": {
     "base_uri": "https://localhost:8080/"
    },
    "id": "URuvHBYuP9lg",
    "outputId": "cf1db6f1-9acb-4f8c-d9bb-0e1ac33e5d4c"
   },
   "outputs": [],
   "source": [
    "X_test.shape"
   ]
  },
  {
   "cell_type": "code",
   "execution_count": null,
   "id": "pgzrxUxgQBBn",
   "metadata": {
    "colab": {
     "base_uri": "https://localhost:8080/",
     "height": 256
    },
    "id": "pgzrxUxgQBBn",
    "outputId": "caba6824-4a28-484f-932f-975527d33df2"
   },
   "outputs": [],
   "source": [
    "X_test.head()"
   ]
  },
  {
   "cell_type": "code",
   "execution_count": null,
   "id": "OER4tfwKQEQI",
   "metadata": {
    "colab": {
     "base_uri": "https://localhost:8080/"
    },
    "id": "OER4tfwKQEQI",
    "outputId": "799e70ec-4260-4457-d663-c2b45802913d"
   },
   "outputs": [],
   "source": [
    "print(y_train.shape)\n",
    "print(y_test.shape)"
   ]
  },
  {
   "cell_type": "markdown",
   "id": "ab7cf99f",
   "metadata": {},
   "source": [
    "**Value Counts**"
   ]
  },
  {
   "cell_type": "code",
   "execution_count": null,
   "id": "Be866eZUQPzQ",
   "metadata": {
    "colab": {
     "base_uri": "https://localhost:8080/"
    },
    "id": "Be866eZUQPzQ",
    "outputId": "9d0e0239-e41a-4c8d-bae7-fcf440e2b456"
   },
   "outputs": [],
   "source": [
    "print(y_train.value_counts())\n",
    "print(y_test.value_counts())"
   ]
  },
  {
   "cell_type": "markdown",
   "id": "444a4a1f",
   "metadata": {},
   "source": [
    "**Scaling Data (Standard Scaler)**"
   ]
  },
  {
   "cell_type": "code",
   "execution_count": null,
   "id": "8_vfbVkSP0sI",
   "metadata": {
    "id": "8_vfbVkSP0sI"
   },
   "outputs": [],
   "source": [
    "# Standardizing the Features (This Boosts CatBoost Performance!)\n",
    "scaler = StandardScaler()\n",
    "X_train = scaler.fit_transform(X_train)\n",
    "X_test = scaler.transform(X_test)"
   ]
  },
  {
   "cell_type": "code",
   "execution_count": null,
   "id": "0iUGN07xSeVQ",
   "metadata": {
    "colab": {
     "base_uri": "https://localhost:8080/"
    },
    "id": "0iUGN07xSeVQ",
    "outputId": "13d37c0c-14d7-49ca-a9c3-4d37521896f1"
   },
   "outputs": [],
   "source": [
    "import joblib\n",
    "\n",
    "# Save the scaler object\n",
    "scaler_filename = \"standard_scaler.joblib\"\n",
    "joblib.dump(scaler, scaler_filename)\n"
   ]
  },
  {
   "cell_type": "code",
   "execution_count": null,
   "id": "4OJLLL8DQVXQ",
   "metadata": {
    "colab": {
     "base_uri": "https://localhost:8080/"
    },
    "id": "4OJLLL8DQVXQ",
    "outputId": "810c610f-950c-4af3-93d7-c2fe7b448d2b"
   },
   "outputs": [],
   "source": [
    "print(\"Rescaled X_train Data \\n==================================\\n\")\n",
    "print(X_train)"
   ]
  },
  {
   "cell_type": "code",
   "execution_count": null,
   "id": "zhnxD5XDQ7TA",
   "metadata": {
    "colab": {
     "base_uri": "https://localhost:8080/"
    },
    "id": "zhnxD5XDQ7TA",
    "outputId": "53c35c65-0dab-4044-e555-91d3ede99831"
   },
   "outputs": [],
   "source": [
    "print(\"Sample data of rescaled X_train\\n==================================\\n\")\n",
    "print(X_train[0])"
   ]
  },
  {
   "cell_type": "code",
   "execution_count": null,
   "id": "KdxeRgO2zWxB",
   "metadata": {
    "colab": {
     "base_uri": "https://localhost:8080/"
    },
    "id": "KdxeRgO2zWxB",
    "outputId": "43c2a118-cc36-4ded-8e94-2ae47f006b6f"
   },
   "outputs": [],
   "source": [
    "X_train[0].shape"
   ]
  },
  {
   "cell_type": "code",
   "execution_count": null,
   "id": "agCDDuwfQ1z4",
   "metadata": {
    "colab": {
     "base_uri": "https://localhost:8080/"
    },
    "id": "agCDDuwfQ1z4",
    "outputId": "f4523feb-73c7-4d62-d3de-d91c854f0f85"
   },
   "outputs": [],
   "source": [
    "print(\"Rescaled X_test Data \\n==================================\\n\")\n",
    "print(X_test)"
   ]
  },
  {
   "cell_type": "code",
   "execution_count": null,
   "id": "ztVRWWNfRHFY",
   "metadata": {
    "colab": {
     "base_uri": "https://localhost:8080/"
    },
    "id": "ztVRWWNfRHFY",
    "outputId": "ca2a25ca-fe56-4566-8c30-2bce6757f03f"
   },
   "outputs": [],
   "source": [
    "print(\"Sample data of rescaled X_test\\n==================================\\n\")\n",
    "print(X_test[0])"
   ]
  },
  {
   "cell_type": "markdown",
   "id": "f37734f2",
   "metadata": {},
   "source": [
    "**Machine Learning Model Training : Catboost**"
   ]
  },
  {
   "cell_type": "code",
   "execution_count": null,
   "id": "IvW0L4K9yzcv",
   "metadata": {
    "colab": {
     "base_uri": "https://localhost:8080/"
    },
    "id": "IvW0L4K9yzcv",
    "outputId": "72ddcbeb-8e68-4422-c027-66d98d939e29"
   },
   "outputs": [],
   "source": [
    "# Initializing CatBoostClassifier\n",
    "catboost_model = CatBoostClassifier(iterations=100,  # Balanced for speed & accuracy\n",
    "                                    depth=6,  # Adjust depth based on dataset complexity\n",
    "                                    learning_rate=0.05,\n",
    "                                    loss_function='Logloss',\n",
    "                                    eval_metric='Accuracy',\n",
    "                                    verbose=10,\n",
    "                                    random_seed=42)\n",
    "\n",
    "# Training the Model\n",
    "catboost_model.fit(X_train, y_train)\n",
    "\n"
   ]
  },
  {
   "cell_type": "markdown",
   "id": "fdf3d070",
   "metadata": {},
   "source": [
    "**Save trained CatBoost model**"
   ]
  },
  {
   "cell_type": "code",
   "execution_count": null,
   "id": "yXBftCYbbH_e",
   "metadata": {
    "id": "yXBftCYbbH_e"
   },
   "outputs": [],
   "source": [
    "\n",
    "\n",
    "model_filename = \"catboost_model.cbm\"\n",
    "catboost_model.save_model(model_filename)"
   ]
  },
  {
   "cell_type": "markdown",
   "id": "808e9186",
   "metadata": {},
   "source": [
    "**Extract Leaf Embeddings (New Features)**"
   ]
  },
  {
   "cell_type": "code",
   "execution_count": null,
   "id": "rruv1TfSlZAF",
   "metadata": {
    "id": "rruv1TfSlZAF"
   },
   "outputs": [],
   "source": [
    "\n",
    "X_train_leaf = catboost_model.calc_leaf_indexes(X_train)\n",
    "X_test_leaf = catboost_model.calc_leaf_indexes(X_test)"
   ]
  },
  {
   "cell_type": "code",
   "execution_count": null,
   "id": "3-kNPcqfliAn",
   "metadata": {
    "colab": {
     "base_uri": "https://localhost:8080/"
    },
    "id": "3-kNPcqfliAn",
    "outputId": "05bfa8b8-dab9-4127-b50a-3df1b1619d64"
   },
   "outputs": [],
   "source": [
    "X_train_leaf"
   ]
  },
  {
   "cell_type": "code",
   "execution_count": null,
   "id": "sZNfV-Z-lkEi",
   "metadata": {
    "colab": {
     "base_uri": "https://localhost:8080/"
    },
    "id": "sZNfV-Z-lkEi",
    "outputId": "a92ccdc4-0b89-44dc-c03f-4bbe7ef384da"
   },
   "outputs": [],
   "source": [
    "X_test_leaf"
   ]
  },
  {
   "cell_type": "markdown",
   "id": "78d37aa4",
   "metadata": {},
   "source": [
    "**Scaling Data : MinMaxSclaer**"
   ]
  },
  {
   "cell_type": "code",
   "execution_count": null,
   "id": "jDZnpFAXlclM",
   "metadata": {
    "id": "jDZnpFAXlclM"
   },
   "outputs": [],
   "source": [
    "from sklearn.preprocessing import MinMaxScaler\n",
    "\n",
    "# Initialize MinMaxScaler\n",
    "scaler = MinMaxScaler()\n",
    "\n",
    "# Fit and transform X_train_leaf\n",
    "X_train_scaled = scaler.fit_transform(X_train_leaf)\n",
    "\n",
    "# Transform X_test_leaf\n",
    "X_test_scaled = scaler.transform(X_test_leaf)"
   ]
  },
  {
   "cell_type": "code",
   "execution_count": null,
   "id": "jp6VSP1ieGoO",
   "metadata": {
    "colab": {
     "base_uri": "https://localhost:8080/"
    },
    "id": "jp6VSP1ieGoO",
    "outputId": "68e622e7-d88a-42cb-a8e3-95e3eb4059d6"
   },
   "outputs": [],
   "source": [
    "# prompt: save scaler as min max\n",
    "\n",
    "# Save the MinMaxScaler object\n",
    "scaler_filename = \"minmax_scaler.joblib\"\n",
    "joblib.dump(scaler, scaler_filename)\n"
   ]
  },
  {
   "cell_type": "code",
   "execution_count": null,
   "id": "EKpBw06WcGky",
   "metadata": {
    "colab": {
     "base_uri": "https://localhost:8080/"
    },
    "id": "EKpBw06WcGky",
    "outputId": "838df157-07b4-41e0-8676-2ae60857684b"
   },
   "outputs": [],
   "source": [
    "X_train_scaled.shape"
   ]
  },
  {
   "cell_type": "code",
   "execution_count": null,
   "id": "huM4GFidcJIe",
   "metadata": {
    "colab": {
     "base_uri": "https://localhost:8080/"
    },
    "id": "huM4GFidcJIe",
    "outputId": "8c196898-62c1-446b-f054-e3460be8d2cc"
   },
   "outputs": [],
   "source": [
    "X_test_scaled.shape"
   ]
  },
  {
   "cell_type": "code",
   "execution_count": null,
   "id": "EDP9CYuH06vp",
   "metadata": {
    "id": "EDP9CYuH06vp"
   },
   "outputs": [],
   "source": [
    "# X_train = np.expand_dims(X_train_scaled, axis=-1)\n",
    "# X_test = np.expand_dims(X_test_scaled, axis=-1)"
   ]
  },
  {
   "cell_type": "code",
   "execution_count": null,
   "id": "LgP0255YRWuN",
   "metadata": {
    "colab": {
     "base_uri": "https://localhost:8080/"
    },
    "id": "LgP0255YRWuN",
    "outputId": "7caab006-d01e-4a10-9b8b-62d4f86c1396"
   },
   "outputs": [],
   "source": [
    "# X_train"
   ]
  },
  {
   "cell_type": "markdown",
   "id": "e10ab4e4",
   "metadata": {},
   "source": [
    "**Deep Learning Model Training : CNN**"
   ]
  },
  {
   "cell_type": "code",
   "execution_count": null,
   "id": "APFz87-1AeBy",
   "metadata": {
    "colab": {
     "base_uri": "https://localhost:8080/"
    },
    "id": "APFz87-1AeBy",
    "outputId": "d95d4ec4-c86b-409a-fac8-29beabf68146"
   },
   "outputs": [],
   "source": [
    "from tensorflow.keras.models import Sequential\n",
    "from tensorflow.keras.layers import Conv1D, MaxPooling1D, Flatten, Dense, Dropout, BatchNormalization\n",
    "\n",
    "# CNN Model with Batch Normalization\n",
    "cnn_model = Sequential([\n",
    "    # First Convolutional Block\n",
    "    Conv1D(filters=64, kernel_size=3, activation='relu', input_shape=(X_train.shape[1], 1)),\n",
    "    BatchNormalization(),\n",
    "    MaxPooling1D(pool_size=2),\n",
    "\n",
    "    # Second Convolutional Block\n",
    "    Conv1D(filters=128, kernel_size=3, activation='relu'),\n",
    "    BatchNormalization(),\n",
    "    MaxPooling1D(pool_size=2),\n",
    "\n",
    "    # Flatten the feature map\n",
    "    Flatten(),\n",
    "\n",
    "    # Fully Connected Layers\n",
    "    Dense(128, activation='relu'),\n",
    "    BatchNormalization(),\n",
    "    Dropout(0.5),\n",
    "\n",
    "    Dense(64, activation='relu'),\n",
    "    BatchNormalization(),\n",
    "\n",
    "    # Output Layer for Binary Classification\n",
    "    Dense(1, activation='sigmoid')\n",
    "])\n",
    "\n",
    "# Compile Model\n",
    "cnn_model.compile(optimizer='adam', loss='binary_crossentropy', metrics=['accuracy'])\n",
    "\n",
    "# Model Summary\n",
    "cnn_model.summary()\n"
   ]
  },
  {
   "cell_type": "code",
   "execution_count": null,
   "id": "yOccYCZZWW60",
   "metadata": {
    "colab": {
     "base_uri": "https://localhost:8080/"
    },
    "id": "yOccYCZZWW60",
    "outputId": "2808f31d-7c5c-42b1-dbcf-a2576d3fca3a"
   },
   "outputs": [],
   "source": [
    "# Train Model\n",
    "history=cnn_model.fit(X_train_scaled, y_train, validation_data=(X_test_scaled, y_test), epochs=5, batch_size=16)"
   ]
  },
  {
   "cell_type": "markdown",
   "id": "16720d7b",
   "metadata": {},
   "source": [
    "**Model Evaluation**"
   ]
  },
  {
   "cell_type": "code",
   "execution_count": null,
   "id": "flkdyvs04Fhc",
   "metadata": {
    "colab": {
     "base_uri": "https://localhost:8080/"
    },
    "id": "flkdyvs04Fhc",
    "outputId": "5418d0e7-b3e0-4baa-f5e3-587efb19aa20"
   },
   "outputs": [],
   "source": [
    "# Evaluate the model on the test set\n",
    "test_loss, test_accuracy = cnn_model.evaluate(X_test_scaled, y_test, batch_size=32, verbose=1)\n",
    "print(f'Test Accuracy: {test_accuracy:.4f}')\n",
    "print(f'Test Loss: {test_loss:.4f}')\n"
   ]
  },
  {
   "cell_type": "markdown",
   "id": "39474cd8",
   "metadata": {},
   "source": [
    "**Save Model**"
   ]
  },
  {
   "cell_type": "code",
   "execution_count": null,
   "id": "M-lvuoSSl5ld",
   "metadata": {
    "id": "M-lvuoSSl5ld"
   },
   "outputs": [],
   "source": [
    "cnn_model.save('cnn_model_99.h5')"
   ]
  },
  {
   "cell_type": "code",
   "execution_count": null,
   "id": "RvnCtJhZVrQx",
   "metadata": {
    "id": "RvnCtJhZVrQx"
   },
   "outputs": [],
   "source": [
    "cnn_model.save('cnn_model_99.keras')"
   ]
  },
  {
   "cell_type": "markdown",
   "id": "a731fc1b",
   "metadata": {},
   "source": [
    "**Metrics Plot**"
   ]
  },
  {
   "cell_type": "code",
   "execution_count": null,
   "id": "NCogje-TZgC0",
   "metadata": {
    "colab": {
     "base_uri": "https://localhost:8080/",
     "height": 487
    },
    "id": "NCogje-TZgC0",
    "outputId": "a8e1908e-5091-43ff-974b-72a9bd0fe56d"
   },
   "outputs": [],
   "source": [
    "import matplotlib.pyplot as plt\n",
    "\n",
    "# Plot training & validation accuracy values\n",
    "plt.figure(figsize=(10, 5))\n",
    "plt.subplot(1, 2, 1)\n",
    "plt.plot(history.history['accuracy'])\n",
    "plt.plot(history.history['val_accuracy'])\n",
    "plt.title('Model accuracy')\n",
    "plt.ylabel('Accuracy')\n",
    "plt.xlabel('Epoch')\n",
    "plt.legend(['Train', 'Test'], loc='upper left')\n",
    "\n",
    "# Plot training & validation loss values\n",
    "plt.subplot(1, 2, 2)\n",
    "plt.plot(history.history['loss'])\n",
    "plt.plot(history.history['val_loss'])\n",
    "plt.title('Model loss')\n",
    "plt.ylabel('Loss')\n",
    "plt.xlabel('Epoch')\n",
    "plt.legend(['Train', 'Test'], loc='upper left')\n",
    "plt.show()\n"
   ]
  },
  {
   "cell_type": "markdown",
   "id": "82245ee6",
   "metadata": {},
   "source": [
    "**Classification Report**"
   ]
  },
  {
   "cell_type": "code",
   "execution_count": null,
   "id": "gA4DTQo5ZpM0",
   "metadata": {
    "colab": {
     "base_uri": "https://localhost:8080/"
    },
    "id": "gA4DTQo5ZpM0",
    "outputId": "7d268652-dc01-46ab-f852-f9511e5a21e6"
   },
   "outputs": [],
   "source": [
    "from sklearn.metrics import classification_report\n",
    "\n",
    "# Make predictions on the test set\n",
    "y_pred_prob = cnn_model.predict(X_test_scaled)\n",
    "y_pred = (y_pred_prob > 0.5).astype(int) # Convert probabilities to binary predictions\n",
    "\n",
    "# Generate classification report\n",
    "print(classification_report(y_test, y_pred))\n"
   ]
  },
  {
   "cell_type": "markdown",
   "id": "b93f0a4b",
   "metadata": {},
   "source": [
    "**Confusion Matrix**"
   ]
  },
  {
   "cell_type": "code",
   "execution_count": null,
   "id": "MeExznvGZw5u",
   "metadata": {
    "colab": {
     "base_uri": "https://localhost:8080/",
     "height": 564
    },
    "id": "MeExznvGZw5u",
    "outputId": "20e06874-62b0-44f3-f23e-8145a2063e25"
   },
   "outputs": [],
   "source": [
    "from sklearn.metrics import confusion_matrix\n",
    "import seaborn as sns\n",
    "import matplotlib.pyplot as plt\n",
    "\n",
    "# Assuming y_test and y_pred are already defined from your model's predictions\n",
    "# Example:\n",
    "# y_pred = cnn_model.predict(X_test_scaled)\n",
    "# y_pred = (y_pred > 0.5).astype(int)\n",
    "\n",
    "conf_mat = confusion_matrix(y_test, y_pred)\n",
    "\n",
    "plt.figure(figsize=(8, 6))\n",
    "sns.heatmap(conf_mat, annot=True, fmt=\"d\", cmap=\"Blues\",\n",
    "            xticklabels=['Predicted 0', 'Predicted 1'],\n",
    "            yticklabels=['Actual 0', 'Actual 1'])\n",
    "plt.xlabel(\"Predicted Labels\")\n",
    "plt.ylabel(\"True Labels\")\n",
    "plt.title(\"Confusion Matrix\")\n",
    "plt.show()\n"
   ]
  },
  {
   "cell_type": "markdown",
   "id": "tScucJaUnG8k",
   "metadata": {
    "id": "tScucJaUnG8k"
   },
   "source": [
    "# **Prediction**"
   ]
  },
  {
   "cell_type": "code",
   "execution_count": null,
   "id": "4fTbZ0biiZqh",
   "metadata": {
    "id": "4fTbZ0biiZqh"
   },
   "outputs": [],
   "source": [
    "# prompt: laod sample csv for test and read ,then load scale data and convert rescaling then load catboost then extract calc leaf index\n",
    "sample_data = pd.read_csv(\"Legit.csv\")"
   ]
  },
  {
   "cell_type": "code",
   "execution_count": null,
   "id": "rpTTcmKghaW5",
   "metadata": {
    "colab": {
     "base_uri": "https://localhost:8080/"
    },
    "id": "rpTTcmKghaW5",
    "outputId": "b06700b9-b937-46ec-b5c4-47b3b3bea068"
   },
   "outputs": [],
   "source": [
    "\n",
    "\n",
    "# Load the saved CatBoost model\n",
    "import joblib\n",
    "from catboost import CatBoostClassifier\n",
    "\n",
    "model_filename = \"catboost_model.cbm\"\n",
    "catboost_model = CatBoostClassifier()\n",
    "catboost_model.load_model(model_filename)\n",
    "\n",
    "# Load the saved scaler\n",
    "scaler_filename = \"standard_scaler.joblib\"\n",
    "standar_scaler = joblib.load(scaler_filename)\n",
    "\n",
    "# Load sample data (replace with your actual sample data)\n",
    "X_sample_scaled = standar_scaler.transform(sample_data)\n",
    "\n",
    "\n",
    "# Extract leaf indices for the sample data\n",
    "X_sample_leaf = catboost_model.calc_leaf_indexes(X_sample_scaled)\n",
    "\n",
    "X_sample_leaf\n"
   ]
  },
  {
   "cell_type": "code",
   "execution_count": null,
   "id": "gcXh9YwybCh-",
   "metadata": {
    "colab": {
     "base_uri": "https://localhost:8080/"
    },
    "id": "gcXh9YwybCh-",
    "outputId": "af7e29c9-0152-4cd3-e1d9-da916065a981"
   },
   "outputs": [],
   "source": [
    "\n",
    "# Load the saved MinMaxScaler\n",
    "min_max_scaler = joblib.load(\"minmax_scaler.joblib\")\n",
    "\n",
    "sample_data_scaled=min_max_scaler.transform(X_sample_leaf)\n",
    "# Load the saved TF Keras model\n",
    "cnn_model = tf.keras.models.load_model('cnn_model_99.h5',compile=False)\n",
    "\n",
    "\n",
    "# Make predictions\n",
    "y_pred_prob = cnn_model.predict(sample_data_scaled)\n",
    "y_pred = (y_pred_prob > 0.5).astype(int)\n",
    "\n",
    "# Now you can use y_pred for further analysis or evaluation.\n",
    "if int(y_pred[0][0])==1:\n",
    "  print(\"Fraud\")\n",
    "else:\n",
    "  print(\"Non Fraud\")\n"
   ]
  },
  {
   "cell_type": "code",
   "execution_count": null,
   "id": "qCEFhdMVkoek",
   "metadata": {
    "id": "qCEFhdMVkoek"
   },
   "outputs": [],
   "source": []
  }
 ],
 "metadata": {
  "colab": {
   "provenance": []
  },
  "kernelspec": {
   "display_name": "Python 3 (ipykernel)",
   "language": "python",
   "name": "python3"
  },
  "language_info": {
   "codemirror_mode": {
    "name": "ipython",
    "version": 3
   },
   "file_extension": ".py",
   "mimetype": "text/x-python",
   "name": "python",
   "nbconvert_exporter": "python",
   "pygments_lexer": "ipython3",
   "version": "3.9.7"
  }
 },
 "nbformat": 4,
 "nbformat_minor": 5
}
